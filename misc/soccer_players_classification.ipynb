{
  "nbformat": 4,
  "nbformat_minor": 5,
  "metadata": {
    "kernelspec": {
      "name": "python3",
      "display_name": "Python 3"
    },
    "colab": {
      "name": "soccer_players_classification.ipynb",
      "provenance": [],
      "collapsed_sections": []
    },
    "language_info": {
      "name": "python"
    },
    "accelerator": "GPU"
  },
  "cells": [
    {
      "cell_type": "markdown",
      "metadata": {
        "id": "oB3Gid51BovK"
      },
      "source": [
        "## Preprocessing"
      ],
      "id": "oB3Gid51BovK"
    },
    {
      "cell_type": "code",
      "metadata": {
        "id": "QWyYohb2LR3D"
      },
      "source": [
        "import matplotlib.pyplot as plt\n",
        "import matplotlib.image as mpimg\n",
        "import cv2\n",
        "import numpy as np\n",
        "\n",
        "import tensorflow as tf"
      ],
      "id": "QWyYohb2LR3D",
      "execution_count": 5,
      "outputs": []
    },
    {
      "cell_type": "code",
      "metadata": {
        "id": "VE83GxFJArHy"
      },
      "source": [
        "labels = np.load(\"labels.npy\")"
      ],
      "id": "VE83GxFJArHy",
      "execution_count": 6,
      "outputs": []
    },
    {
      "cell_type": "code",
      "metadata": {
        "colab": {
          "base_uri": "https://localhost:8080/"
        },
        "id": "IOOYYZLZYQlA",
        "outputId": "db749035-ba8f-4cf1-b1f2-603d3bd63b0a"
      },
      "source": [
        "labels[2]"
      ],
      "id": "IOOYYZLZYQlA",
      "execution_count": 7,
      "outputs": [
        {
          "output_type": "execute_result",
          "data": {
            "text/plain": [
              "array(['img/0_1-20-2.jpg', 'Red-White Team'], dtype='<U21')"
            ]
          },
          "metadata": {
            "tags": []
          },
          "execution_count": 7
        }
      ]
    },
    {
      "cell_type": "code",
      "metadata": {
        "colab": {
          "base_uri": "https://localhost:8080/",
          "height": 268
        },
        "id": "KtZMATi_8ScI",
        "outputId": "9b2ddf11-3e09-4d54-85fa-45f63e085b9e"
      },
      "source": [
        "img = mpimg.imread(labels[0][0])\n",
        "plt.imshow(img)\n",
        "plt.show()"
      ],
      "id": "KtZMATi_8ScI",
      "execution_count": 8,
      "outputs": [
        {
          "output_type": "display_data",
          "data": {
            "image/png": "[encoded data removed]",
            "text/plain": [
              "<Figure size 432x288 with 1 Axes>"
            ]
          },
          "metadata": {
            "tags": [],
            "needs_background": "light"
          }
        }
      ]
    },
    {
      "cell_type": "code",
      "metadata": {
        "colab": {
          "base_uri": "https://localhost:8080/",
          "height": 268
        },
        "id": "JnrjmbtOB9_N",
        "outputId": "6a4a93a0-791d-4019-e597-d9a0bac5ef4f"
      },
      "source": [
        "img = img / 255.0\n",
        "plt.imshow(img)\n",
        "plt.show()"
      ],
      "id": "JnrjmbtOB9_N",
      "execution_count": 9,
      "outputs": [
        {
          "output_type": "display_data",
          "data": {
            "image/png": "[encoded data removed]",
            "text/plain": [
              "<Figure size 432x288 with 1 Axes>"
            ]
          },
          "metadata": {
            "tags": [],
            "needs_background": "light"
          }
        }
      ]
    },
    {
      "cell_type": "code",
      "metadata": {
        "colab": {
          "base_uri": "https://localhost:8080/",
          "height": 265
        },
        "id": "1Mf5JrLFCfsb",
        "outputId": "b4d25717-b178-4bf9-977a-38d7a6b9e0b9"
      },
      "source": [
        "resized_image = cv2.resize(img, (10, 28))\n",
        "plt.imshow(resized_image)\n",
        "plt.show()"
      ],
      "id": "1Mf5JrLFCfsb",
      "execution_count": 10,
      "outputs": [
        {
          "output_type": "display_data",
          "data": {
            "image/png": "[encoded data removed]",
            "text/plain": [
              "<Figure size 432x288 with 1 Axes>"
            ]
          },
          "metadata": {
            "tags": [],
            "needs_background": "light"
          }
        }
      ]
    },
    {
      "cell_type": "code",
      "metadata": {
        "id": "hcwLXTP7VgdY"
      },
      "source": [
        "y = []\n",
        "x = []"
      ],
      "id": "hcwLXTP7VgdY",
      "execution_count": 43,
      "outputs": []
    },
    {
      "cell_type": "code",
      "metadata": {
        "id": "OWcEiiwMLekJ"
      },
      "source": [
        "for file_name, label in labels:\n",
        "  img = mpimg.imread(file_name)\n",
        "  img = img / 255.0\n",
        "  resized_image = cv2.resize(img, (10, 28))\n",
        "  x.append(resized_image)\n",
        "  if label == \"Blue-Black Team\":\n",
        "    y.append([1, 0, 0])\n",
        "  elif label == \"Referee\":\n",
        "    y.append([0, 1, 0])\n",
        "  elif label == \"Red-White Team\":\n",
        "    y.append([0, 0, 1])"
      ],
      "id": "OWcEiiwMLekJ",
      "execution_count": 44,
      "outputs": []
    },
    {
      "cell_type": "code",
      "metadata": {
        "id": "3W0PAaDob9zF"
      },
      "source": [
        "X = np.array(x)\n",
        "y = np.array(y)"
      ],
      "id": "3W0PAaDob9zF",
      "execution_count": 45,
      "outputs": []
    },
    {
      "cell_type": "code",
      "metadata": {
        "colab": {
          "base_uri": "https://localhost:8080/"
        },
        "id": "phJyhO4GcUOa",
        "outputId": "64d0ee6b-4ef5-4784-91ba-79d9c30c0662"
      },
      "source": [
        "X.shape, y.shape"
      ],
      "id": "phJyhO4GcUOa",
      "execution_count": 46,
      "outputs": [
        {
          "output_type": "execute_result",
          "data": {
            "text/plain": [
              "((1217, 28, 10, 3), (1217, 3))"
            ]
          },
          "metadata": {
            "tags": []
          },
          "execution_count": 46
        }
      ]
    },
    {
      "cell_type": "code",
      "metadata": {
        "id": "w_kwkvWFYX5w"
      },
      "source": [
        "from sklearn.model_selection import train_test_split\n",
        "\n",
        "X_train, X_test, y_train, y_test = train_test_split(X, y, test_size=0.1, random_state=42)"
      ],
      "id": "w_kwkvWFYX5w",
      "execution_count": 47,
      "outputs": []
    },
    {
      "cell_type": "code",
      "metadata": {
        "id": "YlT8aUtoY-4W"
      },
      "source": [
        "model = tf.keras.models.Sequential()\n",
        "\n",
        "model.add(tf.keras.layers.Conv2D(64, (3,3), input_shape=(28,10,3), activation=tf.nn.relu))\n",
        "model.add(tf.keras.layers.MaxPooling2D(2, 2))\n",
        "\n",
        "model.add(tf.keras.layers.Conv2D(128, (3,3), activation=tf.nn.relu))\n",
        "model.add(tf.keras.layers.MaxPooling2D(2, 2))\n",
        "\n",
        "model.add(tf.keras.layers.Flatten())\n",
        "\n",
        "model.add(tf.keras.layers.Dense(128, activation='relu'))\n",
        "model.add(tf.keras.layers.Dense(3, activation='softmax'))"
      ],
      "id": "YlT8aUtoY-4W",
      "execution_count": 48,
      "outputs": []
    },
    {
      "cell_type": "code",
      "metadata": {
        "colab": {
          "base_uri": "https://localhost:8080/"
        },
        "id": "r5Ph5NKYqiRN",
        "outputId": "1bdeb154-4163-495b-aca2-abfcfed5ec16"
      },
      "source": [
        "model.summary()"
      ],
      "id": "r5Ph5NKYqiRN",
      "execution_count": 49,
      "outputs": [
        {
          "output_type": "stream",
          "text": [
            "Model: \"sequential_5\"\n",
            "_________________________________________________________________\n",
            "Layer (type)                 Output Shape              Param #   \n",
            "=================================================================\n",
            "conv2d_8 (Conv2D)            (None, 26, 8, 64)         1792      \n",
            "_________________________________________________________________\n",
            "max_pooling2d_8 (MaxPooling2 (None, 13, 4, 64)         0         \n",
            "_________________________________________________________________\n",
            "conv2d_9 (Conv2D)            (None, 11, 2, 128)        73856     \n",
            "_________________________________________________________________\n",
            "max_pooling2d_9 (MaxPooling2 (None, 5, 1, 128)         0         \n",
            "_________________________________________________________________\n",
            "flatten_4 (Flatten)          (None, 640)               0         \n",
            "_________________________________________________________________\n",
            "dense_8 (Dense)              (None, 128)               82048     \n",
            "_________________________________________________________________\n",
            "dense_9 (Dense)              (None, 3)                 387       \n",
            "=================================================================\n",
            "Total params: 158,083\n",
            "Trainable params: 158,083\n",
            "Non-trainable params: 0\n",
            "_________________________________________________________________\n"
          ],
          "name": "stdout"
        }
      ]
    },
    {
      "cell_type": "code",
      "metadata": {
        "id": "sMlqrEOWnWvY"
      },
      "source": [
        "model.compile(loss = 'categorical_crossentropy', optimizer='rmsprop', metrics=['accuracy'])"
      ],
      "id": "sMlqrEOWnWvY",
      "execution_count": 50,
      "outputs": []
    },
    {
      "cell_type": "code",
      "metadata": {
        "colab": {
          "base_uri": "https://localhost:8080/"
        },
        "id": "xcmTOVo9qkzO",
        "outputId": "857f6e0c-fade-4e99-b513-cd3cf945d98e"
      },
      "source": [
        "history = model.fit(X_train, y_train, epochs=25, validation_data=(X_test, y_test))"
      ],
      "id": "xcmTOVo9qkzO",
      "execution_count": 51,
      "outputs": [
        {
          "output_type": "stream",
          "text": [
            "Epoch 1/25\n",
            "35/35 [==============================] - 30s 16ms/step - loss: 0.4902 - accuracy: 0.7963 - val_loss: 0.0818 - val_accuracy: 0.9918\n",
            "Epoch 2/25\n",
            "35/35 [==============================] - 0s 7ms/step - loss: 0.1103 - accuracy: 0.9671 - val_loss: 0.0231 - val_accuracy: 1.0000\n",
            "Epoch 3/25\n",
            "35/35 [==============================] - 0s 7ms/step - loss: 0.0789 - accuracy: 0.9836 - val_loss: 0.0137 - val_accuracy: 1.0000\n",
            "Epoch 4/25\n",
            "35/35 [==============================] - 0s 8ms/step - loss: 0.0824 - accuracy: 0.9772 - val_loss: 0.0703 - val_accuracy: 0.9754\n",
            "Epoch 5/25\n",
            "35/35 [==============================] - 0s 7ms/step - loss: 0.0606 - accuracy: 0.9845 - val_loss: 0.0137 - val_accuracy: 1.0000\n",
            "Epoch 6/25\n",
            "35/35 [==============================] - 0s 8ms/step - loss: 0.0509 - accuracy: 0.9881 - val_loss: 0.0045 - val_accuracy: 1.0000\n",
            "Epoch 7/25\n",
            "35/35 [==============================] - 0s 7ms/step - loss: 0.0549 - accuracy: 0.9863 - val_loss: 0.0044 - val_accuracy: 1.0000\n",
            "Epoch 8/25\n",
            "35/35 [==============================] - 0s 8ms/step - loss: 0.0496 - accuracy: 0.9909 - val_loss: 0.0194 - val_accuracy: 1.0000\n",
            "Epoch 9/25\n",
            "35/35 [==============================] - 0s 7ms/step - loss: 0.0459 - accuracy: 0.9900 - val_loss: 0.0527 - val_accuracy: 0.9754\n",
            "Epoch 10/25\n",
            "35/35 [==============================] - 0s 7ms/step - loss: 0.0381 - accuracy: 0.9936 - val_loss: 0.0057 - val_accuracy: 1.0000\n",
            "Epoch 11/25\n",
            "35/35 [==============================] - 0s 7ms/step - loss: 0.0319 - accuracy: 0.9936 - val_loss: 9.7868e-04 - val_accuracy: 1.0000\n",
            "Epoch 12/25\n",
            "35/35 [==============================] - 0s 7ms/step - loss: 0.0319 - accuracy: 0.9936 - val_loss: 0.0173 - val_accuracy: 1.0000\n",
            "Epoch 13/25\n",
            "35/35 [==============================] - 0s 7ms/step - loss: 0.0286 - accuracy: 0.9927 - val_loss: 0.0014 - val_accuracy: 1.0000\n",
            "Epoch 14/25\n",
            "35/35 [==============================] - 0s 7ms/step - loss: 0.0282 - accuracy: 0.9945 - val_loss: 0.0119 - val_accuracy: 1.0000\n",
            "Epoch 15/25\n",
            "35/35 [==============================] - 0s 7ms/step - loss: 0.0227 - accuracy: 0.9954 - val_loss: 0.0024 - val_accuracy: 1.0000\n",
            "Epoch 16/25\n",
            "35/35 [==============================] - 0s 8ms/step - loss: 0.0193 - accuracy: 0.9945 - val_loss: 0.0115 - val_accuracy: 1.0000\n",
            "Epoch 17/25\n",
            "35/35 [==============================] - 0s 7ms/step - loss: 0.0215 - accuracy: 0.9945 - val_loss: 0.0023 - val_accuracy: 1.0000\n",
            "Epoch 18/25\n",
            "35/35 [==============================] - 0s 7ms/step - loss: 0.0173 - accuracy: 0.9963 - val_loss: 0.0010 - val_accuracy: 1.0000\n",
            "Epoch 19/25\n",
            "35/35 [==============================] - 0s 7ms/step - loss: 0.0140 - accuracy: 0.9954 - val_loss: 6.5990e-04 - val_accuracy: 1.0000\n",
            "Epoch 20/25\n",
            "35/35 [==============================] - 0s 8ms/step - loss: 0.0169 - accuracy: 0.9954 - val_loss: 0.0021 - val_accuracy: 1.0000\n",
            "Epoch 21/25\n",
            "35/35 [==============================] - 0s 7ms/step - loss: 0.0089 - accuracy: 0.9982 - val_loss: 3.8162e-04 - val_accuracy: 1.0000\n",
            "Epoch 22/25\n",
            "35/35 [==============================] - 0s 7ms/step - loss: 0.0146 - accuracy: 0.9954 - val_loss: 0.0082 - val_accuracy: 1.0000\n",
            "Epoch 23/25\n",
            "35/35 [==============================] - 0s 7ms/step - loss: 0.0035 - accuracy: 0.9991 - val_loss: 4.2982e-04 - val_accuracy: 1.0000\n",
            "Epoch 24/25\n",
            "35/35 [==============================] - 0s 7ms/step - loss: 0.0083 - accuracy: 0.9982 - val_loss: 6.3140e-04 - val_accuracy: 1.0000\n",
            "Epoch 25/25\n",
            "35/35 [==============================] - 0s 7ms/step - loss: 0.0074 - accuracy: 0.9973 - val_loss: 4.3136e-04 - val_accuracy: 1.0000\n"
          ],
          "name": "stdout"
        }
      ]
    },
    {
      "cell_type": "code",
      "metadata": {
        "id": "8m8DuOrFquB3"
      },
      "source": [
        "model.save(\"spc1.h5\")"
      ],
      "id": "8m8DuOrFquB3",
      "execution_count": 53,
      "outputs": []
    },
    {
      "cell_type": "code",
      "metadata": {
        "id": "TK4H96Tm0L91"
      },
      "source": [
        ""
      ],
      "id": "TK4H96Tm0L91",
      "execution_count": null,
      "outputs": []
    }
  ]
}