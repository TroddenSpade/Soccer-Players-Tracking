{
  "cells": [
    {
      "cell_type": "markdown",
      "metadata": {
        "id": "oB3Gid51BovK"
      },
      "source": [
        "## Preprocessing"
      ]
    },
    {
      "cell_type": "code",
      "execution_count": 5,
      "metadata": {
        "id": "QWyYohb2LR3D"
      },
      "outputs": [],
      "source": [
        "import matplotlib.pyplot as plt\n",
        "import matplotlib.image as mpimg\n",
        "import cv2\n",
        "import numpy as np\n",
        "\n",
        "import tensorflow as tf"
      ]
    },
    {
      "cell_type": "code",
      "execution_count": 9,
      "metadata": {
        "id": "VE83GxFJArHy"
      },
      "outputs": [],
      "source": [
        "labels = np.load(\"labels.npy\")"
      ]
    },
    {
      "cell_type": "code",
      "execution_count": 10,
      "metadata": {
        "colab": {
          "base_uri": "https://localhost:8080/"
        },
        "id": "IOOYYZLZYQlA",
        "outputId": "db749035-ba8f-4cf1-b1f2-603d3bd63b0a"
      },
      "outputs": [
        {
          "data": {
            "text/plain": [
              "array(['img/0_1-20-0.jpg', 'Red-White Team'], dtype='<U21')"
            ]
          },
          "execution_count": 10,
          "metadata": {},
          "output_type": "execute_result"
        }
      ],
      "source": [
        "labels[0]"
      ]
    },
    {
      "cell_type": "code",
      "execution_count": 28,
      "metadata": {},
      "outputs": [
        {
          "data": {
            "text/plain": [
              "(28, 10, 3)"
            ]
          },
          "execution_count": 28,
          "metadata": {},
          "output_type": "execute_result"
        }
      ],
      "source": [
        "player.shape"
      ]
    },
    {
      "cell_type": "code",
      "execution_count": 12,
      "metadata": {
        "colab": {
          "base_uri": "https://localhost:8080/",
          "height": 268
        },
        "id": "JnrjmbtOB9_N",
        "outputId": "6a4a93a0-791d-4019-e597-d9a0bac5ef4f"
      },
      "outputs": [
        {
          "data": {
            "image/png": "[encoded data removed]",
            "text/plain": [
              "<Figure size 432x288 with 1 Axes>"
            ]
          },
          "metadata": {
            "needs_background": "light"
          },
          "output_type": "display_data"
        }
      ],
      "source": [
        "img = img / 255.0\n",
        "plt.imshow(img)\n",
        "plt.show()"
      ]
    },
    {
      "cell_type": "code",
      "execution_count": 13,
      "metadata": {
        "colab": {
          "base_uri": "https://localhost:8080/",
          "height": 265
        },
        "id": "1Mf5JrLFCfsb",
        "outputId": "b4d25717-b178-4bf9-977a-38d7a6b9e0b9"
      },
      "outputs": [
        {
          "data": {
            "image/png": "[encoded data removed]",
            "text/plain": [
              "<Figure size 432x288 with 1 Axes>"
            ]
          },
          "metadata": {
            "needs_background": "light"
          },
          "output_type": "display_data"
        }
      ],
      "source": [
        "resized_image = cv2.resize(img, (10, 28))\n",
        "plt.imshow(resized_image)\n",
        "plt.show()"
      ]
    },
    {
      "cell_type": "code",
      "execution_count": 14,
      "metadata": {
        "id": "hcwLXTP7VgdY"
      },
      "outputs": [],
      "source": [
        "y = []\n",
        "x = []"
      ]
    },
    {
      "cell_type": "code",
      "execution_count": 15,
      "metadata": {
        "id": "OWcEiiwMLekJ"
      },
      "outputs": [],
      "source": [
        "for file_name, label in labels:\n",
        "  img = mpimg.imread(file_name)\n",
        "  img = img / 255.0\n",
        "  resized_image = cv2.resize(img, (10, 28))\n",
        "  x.append(resized_image)\n",
        "  if label == \"Blue-Black Team\":\n",
        "    y.append([1, 0, 0])\n",
        "  elif label == \"Referee\":\n",
        "    y.append([0, 1, 0])\n",
        "  elif label == \"Red-White Team\":\n",
        "    y.append([0, 0, 1])"
      ]
    },
    {
      "cell_type": "code",
      "execution_count": 16,
      "metadata": {
        "id": "3W0PAaDob9zF"
      },
      "outputs": [],
      "source": [
        "X = np.array(x)\n",
        "y = np.array(y)"
      ]
    },
    {
      "cell_type": "code",
      "execution_count": 17,
      "metadata": {
        "colab": {
          "base_uri": "https://localhost:8080/"
        },
        "id": "phJyhO4GcUOa",
        "outputId": "64d0ee6b-4ef5-4784-91ba-79d9c30c0662"
      },
      "outputs": [
        {
          "data": {
            "text/plain": [
              "((1217, 28, 10, 3), (1217, 3))"
            ]
          },
          "execution_count": 17,
          "metadata": {},
          "output_type": "execute_result"
        }
      ],
      "source": [
        "X.shape, y.shape"
      ]
    },
    {
      "cell_type": "code",
      "execution_count": 18,
      "metadata": {
        "id": "w_kwkvWFYX5w"
      },
      "outputs": [],
      "source": [
        "from sklearn.model_selection import train_test_split\n",
        "\n",
        "X_train, X_test, y_train, y_test = train_test_split(X, y, test_size=0.2, random_state=0)"
      ]
    },
    {
      "cell_type": "code",
      "execution_count": 19,
      "metadata": {
        "id": "YlT8aUtoY-4W"
      },
      "outputs": [
        {
          "name": "stderr",
          "output_type": "stream",
          "text": [
            "2021-07-07 15:10:28.275026: I tensorflow/core/platform/cpu_feature_guard.cc:142] This TensorFlow binary is optimized with oneAPI Deep Neural Network Library (oneDNN) to use the following CPU instructions in performance-critical operations:  AVX2 FMA\n",
            "To enable them in other operations, rebuild TensorFlow with the appropriate compiler flags.\n"
          ]
        }
      ],
      "source": [
        "model = tf.keras.models.Sequential()\n",
        "\n",
        "model.add(tf.keras.layers.Conv2D(64, (3,3), input_shape=(28,10,3), activation=tf.nn.relu))\n",
        "model.add(tf.keras.layers.MaxPooling2D(2, 2))\n",
        "\n",
        "model.add(tf.keras.layers.Conv2D(128, (3,3), activation=tf.nn.relu))\n",
        "model.add(tf.keras.layers.MaxPooling2D(2, 2))\n",
        "\n",
        "model.add(tf.keras.layers.Flatten())\n",
        "\n",
        "model.add(tf.keras.layers.Dense(128, activation='relu'))\n",
        "model.add(tf.keras.layers.Dense(3, activation='softmax'))"
      ]
    },
    {
      "cell_type": "code",
      "execution_count": 20,
      "metadata": {
        "colab": {
          "base_uri": "https://localhost:8080/"
        },
        "id": "r5Ph5NKYqiRN",
        "outputId": "1bdeb154-4163-495b-aca2-abfcfed5ec16"
      },
      "outputs": [
        {
          "name": "stdout",
          "output_type": "stream",
          "text": [
            "Model: \"sequential\"\n",
            "_________________________________________________________________\n",
            "Layer (type)                 Output Shape              Param #   \n",
            "=================================================================\n",
            "conv2d (Conv2D)              (None, 26, 8, 64)         1792      \n",
            "_________________________________________________________________\n",
            "max_pooling2d (MaxPooling2D) (None, 13, 4, 64)         0         \n",
            "_________________________________________________________________\n",
            "conv2d_1 (Conv2D)            (None, 11, 2, 128)        73856     \n",
            "_________________________________________________________________\n",
            "max_pooling2d_1 (MaxPooling2 (None, 5, 1, 128)         0         \n",
            "_________________________________________________________________\n",
            "flatten (Flatten)            (None, 640)               0         \n",
            "_________________________________________________________________\n",
            "dense (Dense)                (None, 128)               82048     \n",
            "_________________________________________________________________\n",
            "dense_1 (Dense)              (None, 3)                 387       \n",
            "=================================================================\n",
            "Total params: 158,083\n",
            "Trainable params: 158,083\n",
            "Non-trainable params: 0\n",
            "_________________________________________________________________\n"
          ]
        }
      ],
      "source": [
        "model.summary()"
      ]
    },
    {
      "cell_type": "code",
      "execution_count": 21,
      "metadata": {
        "id": "sMlqrEOWnWvY"
      },
      "outputs": [],
      "source": [
        "model.compile(loss = 'categorical_crossentropy', optimizer='rmsprop', metrics=['accuracy'])"
      ]
    },
    {
      "cell_type": "code",
      "execution_count": 22,
      "metadata": {
        "colab": {
          "base_uri": "https://localhost:8080/"
        },
        "id": "xcmTOVo9qkzO",
        "outputId": "857f6e0c-fade-4e99-b513-cd3cf945d98e"
      },
      "outputs": [
        {
          "name": "stderr",
          "output_type": "stream",
          "text": [
            "2021-07-07 15:10:30.408601: I tensorflow/compiler/mlir/mlir_graph_optimization_pass.cc:176] None of the MLIR Optimization Passes are enabled (registered 2)\n"
          ]
        },
        {
          "name": "stdout",
          "output_type": "stream",
          "text": [
            "Epoch 1/25\n",
            "31/31 [==============================] - 1s 15ms/step - loss: 0.5163 - accuracy: 0.7852 - val_loss: 0.0807 - val_accuracy: 0.9959\n",
            "Epoch 2/25\n",
            "31/31 [==============================] - 0s 15ms/step - loss: 0.1154 - accuracy: 0.9743 - val_loss: 0.6719 - val_accuracy: 0.7131\n",
            "Epoch 3/25\n",
            "31/31 [==============================] - 0s 11ms/step - loss: 0.0904 - accuracy: 0.9774 - val_loss: 0.0229 - val_accuracy: 0.9959\n",
            "Epoch 4/25\n",
            "31/31 [==============================] - 0s 11ms/step - loss: 0.0679 - accuracy: 0.9866 - val_loss: 0.0137 - val_accuracy: 0.9959\n",
            "Epoch 5/25\n",
            "31/31 [==============================] - 0s 13ms/step - loss: 0.0552 - accuracy: 0.9877 - val_loss: 0.0114 - val_accuracy: 1.0000\n",
            "Epoch 6/25\n",
            "31/31 [==============================] - 0s 11ms/step - loss: 0.0577 - accuracy: 0.9887 - val_loss: 0.0098 - val_accuracy: 0.9959\n",
            "Epoch 7/25\n",
            "31/31 [==============================] - 0s 11ms/step - loss: 0.0476 - accuracy: 0.9918 - val_loss: 0.0074 - val_accuracy: 0.9959\n",
            "Epoch 8/25\n",
            "31/31 [==============================] - 0s 11ms/step - loss: 0.0502 - accuracy: 0.9928 - val_loss: 0.0146 - val_accuracy: 1.0000\n",
            "Epoch 9/25\n",
            "31/31 [==============================] - 0s 11ms/step - loss: 0.0456 - accuracy: 0.9918 - val_loss: 0.0106 - val_accuracy: 0.9959\n",
            "Epoch 10/25\n",
            "31/31 [==============================] - 0s 11ms/step - loss: 0.0865 - accuracy: 0.9815 - val_loss: 0.0099 - val_accuracy: 0.9959\n",
            "Epoch 11/25\n",
            "31/31 [==============================] - 0s 11ms/step - loss: 0.0304 - accuracy: 0.9938 - val_loss: 0.0040 - val_accuracy: 1.0000\n",
            "Epoch 12/25\n",
            "31/31 [==============================] - 0s 11ms/step - loss: 0.0344 - accuracy: 0.9938 - val_loss: 0.0063 - val_accuracy: 1.0000\n",
            "Epoch 13/25\n",
            "31/31 [==============================] - 0s 11ms/step - loss: 0.0404 - accuracy: 0.9887 - val_loss: 0.0045 - val_accuracy: 1.0000\n",
            "Epoch 14/25\n",
            "31/31 [==============================] - 0s 13ms/step - loss: 0.0365 - accuracy: 0.9928 - val_loss: 0.0047 - val_accuracy: 1.0000\n",
            "Epoch 15/25\n",
            "31/31 [==============================] - 0s 15ms/step - loss: 0.0285 - accuracy: 0.9949 - val_loss: 0.0064 - val_accuracy: 1.0000\n",
            "Epoch 16/25\n",
            "31/31 [==============================] - 1s 17ms/step - loss: 0.0289 - accuracy: 0.9938 - val_loss: 0.0739 - val_accuracy: 0.9795\n",
            "Epoch 17/25\n",
            "31/31 [==============================] - 1s 16ms/step - loss: 0.0299 - accuracy: 0.9928 - val_loss: 0.0034 - val_accuracy: 1.0000\n",
            "Epoch 18/25\n",
            "31/31 [==============================] - 0s 14ms/step - loss: 0.0296 - accuracy: 0.9918 - val_loss: 0.0042 - val_accuracy: 1.0000\n",
            "Epoch 19/25\n",
            "31/31 [==============================] - 0s 15ms/step - loss: 0.0207 - accuracy: 0.9949 - val_loss: 0.0582 - val_accuracy: 0.9877\n",
            "Epoch 20/25\n",
            "31/31 [==============================] - 1s 19ms/step - loss: 0.0158 - accuracy: 0.9959 - val_loss: 0.0012 - val_accuracy: 1.0000\n",
            "Epoch 21/25\n",
            "31/31 [==============================] - 0s 15ms/step - loss: 0.0252 - accuracy: 0.9949 - val_loss: 0.0032 - val_accuracy: 1.0000\n",
            "Epoch 22/25\n",
            "31/31 [==============================] - 0s 14ms/step - loss: 0.0134 - accuracy: 0.9969 - val_loss: 0.0020 - val_accuracy: 1.0000\n",
            "Epoch 23/25\n",
            "31/31 [==============================] - 0s 12ms/step - loss: 0.0135 - accuracy: 0.9959 - val_loss: 0.0028 - val_accuracy: 1.0000\n",
            "Epoch 24/25\n",
            "31/31 [==============================] - 0s 12ms/step - loss: 0.0079 - accuracy: 0.9990 - val_loss: 0.0042 - val_accuracy: 1.0000\n",
            "Epoch 25/25\n",
            "31/31 [==============================] - 0s 15ms/step - loss: 0.0092 - accuracy: 0.9959 - val_loss: 0.0013 - val_accuracy: 1.0000\n"
          ]
        }
      ],
      "source": [
        "history = model.fit(X_train, y_train, epochs=25, validation_data=(X_test, y_test))"
      ]
    },
    {
      "cell_type": "code",
      "execution_count": 41,
      "metadata": {},
      "outputs": [],
      "source": [
        "player = np.load(\"../p.npy\")"
      ]
    },
    {
      "cell_type": "code",
      "execution_count": 42,
      "metadata": {
        "colab": {
          "base_uri": "https://localhost:8080/",
          "height": 268
        },
        "id": "KtZMATi_8ScI",
        "outputId": "9b2ddf11-3e09-4d54-85fa-45f63e085b9e"
      },
      "outputs": [
        {
          "data": {
            "image/png": "[encoded data removed]",
            "text/plain": [
              "<Figure size 432x288 with 1 Axes>"
            ]
          },
          "metadata": {
            "needs_background": "light"
          },
          "output_type": "display_data"
        }
      ],
      "source": [
        "plt.imshow(player)\n",
        "plt.show()"
      ]
    },
    {
      "cell_type": "code",
      "execution_count": 43,
      "metadata": {},
      "outputs": [
        {
          "data": {
            "text/plain": [
              "(array([0]),\n",
              " array([[0, 0, 1],\n",
              "        [0, 0, 1],\n",
              "        [1, 0, 0],\n",
              "        [1, 0, 0],\n",
              "        [0, 0, 1],\n",
              "        [1, 0, 0],\n",
              "        [1, 0, 0],\n",
              "        [1, 0, 0],\n",
              "        [1, 0, 0],\n",
              "        [1, 0, 0],\n",
              "        [1, 0, 0],\n",
              "        [1, 0, 0],\n",
              "        [0, 0, 1],\n",
              "        [1, 0, 0],\n",
              "        [1, 0, 0],\n",
              "        [1, 0, 0],\n",
              "        [1, 0, 0],\n",
              "        [1, 0, 0],\n",
              "        [0, 0, 1],\n",
              "        [1, 0, 0],\n",
              "        [0, 0, 1],\n",
              "        [0, 0, 1],\n",
              "        [0, 1, 0],\n",
              "        [0, 1, 0],\n",
              "        [1, 0, 0],\n",
              "        [1, 0, 0],\n",
              "        [1, 0, 0],\n",
              "        [0, 0, 1],\n",
              "        [0, 0, 1],\n",
              "        [1, 0, 0],\n",
              "        [0, 0, 1],\n",
              "        [0, 0, 1],\n",
              "        [1, 0, 0],\n",
              "        [1, 0, 0],\n",
              "        [0, 0, 1],\n",
              "        [0, 0, 1],\n",
              "        [1, 0, 0],\n",
              "        [0, 0, 1],\n",
              "        [1, 0, 0],\n",
              "        [1, 0, 0],\n",
              "        [1, 0, 0],\n",
              "        [0, 0, 1],\n",
              "        [0, 0, 1],\n",
              "        [1, 0, 0],\n",
              "        [1, 0, 0],\n",
              "        [0, 0, 1],\n",
              "        [0, 0, 1],\n",
              "        [0, 1, 0],\n",
              "        [0, 1, 0],\n",
              "        [1, 0, 0],\n",
              "        [0, 0, 1],\n",
              "        [0, 0, 1],\n",
              "        [0, 0, 1],\n",
              "        [0, 1, 0],\n",
              "        [0, 0, 1],\n",
              "        [0, 1, 0],\n",
              "        [0, 0, 1],\n",
              "        [1, 0, 0],\n",
              "        [0, 0, 1],\n",
              "        [1, 0, 0],\n",
              "        [0, 0, 1],\n",
              "        [0, 0, 1],\n",
              "        [0, 0, 1],\n",
              "        [0, 0, 1],\n",
              "        [0, 0, 1],\n",
              "        [0, 0, 1],\n",
              "        [0, 0, 1],\n",
              "        [1, 0, 0],\n",
              "        [0, 0, 1],\n",
              "        [0, 0, 1],\n",
              "        [1, 0, 0],\n",
              "        [0, 0, 1],\n",
              "        [0, 0, 1],\n",
              "        [0, 0, 1],\n",
              "        [0, 0, 1],\n",
              "        [1, 0, 0],\n",
              "        [0, 0, 1],\n",
              "        [1, 0, 0],\n",
              "        [1, 0, 0],\n",
              "        [0, 1, 0],\n",
              "        [0, 0, 1],\n",
              "        [1, 0, 0],\n",
              "        [1, 0, 0],\n",
              "        [0, 0, 1],\n",
              "        [0, 0, 1],\n",
              "        [0, 0, 1],\n",
              "        [1, 0, 0],\n",
              "        [0, 0, 1],\n",
              "        [0, 1, 0],\n",
              "        [0, 0, 1],\n",
              "        [0, 1, 0],\n",
              "        [0, 0, 1],\n",
              "        [0, 0, 1],\n",
              "        [1, 0, 0],\n",
              "        [1, 0, 0],\n",
              "        [0, 0, 1],\n",
              "        [1, 0, 0],\n",
              "        [1, 0, 0],\n",
              "        [0, 0, 1],\n",
              "        [1, 0, 0],\n",
              "        [1, 0, 0],\n",
              "        [0, 0, 1],\n",
              "        [1, 0, 0],\n",
              "        [1, 0, 0],\n",
              "        [1, 0, 0],\n",
              "        [0, 1, 0],\n",
              "        [1, 0, 0],\n",
              "        [1, 0, 0],\n",
              "        [0, 0, 1],\n",
              "        [1, 0, 0],\n",
              "        [0, 0, 1],\n",
              "        [0, 0, 1],\n",
              "        [1, 0, 0],\n",
              "        [1, 0, 0],\n",
              "        [0, 0, 1],\n",
              "        [0, 0, 1],\n",
              "        [0, 0, 1],\n",
              "        [0, 0, 1],\n",
              "        [0, 0, 1],\n",
              "        [1, 0, 0],\n",
              "        [1, 0, 0],\n",
              "        [1, 0, 0],\n",
              "        [1, 0, 0],\n",
              "        [0, 0, 1],\n",
              "        [0, 0, 1],\n",
              "        [0, 0, 1],\n",
              "        [0, 0, 1],\n",
              "        [1, 0, 0],\n",
              "        [1, 0, 0],\n",
              "        [1, 0, 0],\n",
              "        [1, 0, 0],\n",
              "        [0, 1, 0],\n",
              "        [1, 0, 0],\n",
              "        [1, 0, 0],\n",
              "        [1, 0, 0],\n",
              "        [1, 0, 0],\n",
              "        [0, 0, 1],\n",
              "        [1, 0, 0],\n",
              "        [0, 0, 1],\n",
              "        [0, 0, 1],\n",
              "        [1, 0, 0],\n",
              "        [0, 0, 1],\n",
              "        [0, 0, 1],\n",
              "        [0, 1, 0],\n",
              "        [1, 0, 0],\n",
              "        [0, 0, 1],\n",
              "        [1, 0, 0],\n",
              "        [0, 0, 1],\n",
              "        [1, 0, 0],\n",
              "        [1, 0, 0],\n",
              "        [0, 0, 1],\n",
              "        [0, 0, 1],\n",
              "        [0, 0, 1],\n",
              "        [0, 0, 1],\n",
              "        [1, 0, 0],\n",
              "        [0, 0, 1],\n",
              "        [0, 1, 0],\n",
              "        [1, 0, 0],\n",
              "        [0, 1, 0],\n",
              "        [0, 0, 1],\n",
              "        [0, 0, 1],\n",
              "        [1, 0, 0],\n",
              "        [0, 1, 0],\n",
              "        [1, 0, 0],\n",
              "        [1, 0, 0],\n",
              "        [1, 0, 0],\n",
              "        [1, 0, 0],\n",
              "        [0, 0, 1],\n",
              "        [0, 0, 1],\n",
              "        [0, 0, 1],\n",
              "        [0, 1, 0],\n",
              "        [1, 0, 0],\n",
              "        [1, 0, 0],\n",
              "        [0, 0, 1],\n",
              "        [0, 0, 1],\n",
              "        [1, 0, 0],\n",
              "        [0, 0, 1],\n",
              "        [0, 0, 1],\n",
              "        [0, 0, 1],\n",
              "        [1, 0, 0],\n",
              "        [1, 0, 0],\n",
              "        [1, 0, 0],\n",
              "        [0, 1, 0],\n",
              "        [1, 0, 0],\n",
              "        [1, 0, 0],\n",
              "        [0, 0, 1],\n",
              "        [0, 1, 0],\n",
              "        [1, 0, 0],\n",
              "        [1, 0, 0],\n",
              "        [1, 0, 0],\n",
              "        [1, 0, 0],\n",
              "        [0, 0, 1],\n",
              "        [0, 0, 1],\n",
              "        [1, 0, 0],\n",
              "        [1, 0, 0],\n",
              "        [0, 0, 1],\n",
              "        [1, 0, 0],\n",
              "        [0, 0, 1],\n",
              "        [0, 1, 0],\n",
              "        [0, 0, 1],\n",
              "        [0, 0, 1],\n",
              "        [0, 0, 1],\n",
              "        [0, 0, 1],\n",
              "        [0, 0, 1],\n",
              "        [0, 0, 1],\n",
              "        [0, 0, 1],\n",
              "        [1, 0, 0],\n",
              "        [1, 0, 0],\n",
              "        [1, 0, 0],\n",
              "        [0, 1, 0],\n",
              "        [1, 0, 0],\n",
              "        [0, 0, 1],\n",
              "        [1, 0, 0],\n",
              "        [1, 0, 0],\n",
              "        [1, 0, 0],\n",
              "        [0, 0, 1],\n",
              "        [0, 0, 1],\n",
              "        [0, 0, 1],\n",
              "        [0, 0, 1],\n",
              "        [0, 0, 1],\n",
              "        [0, 0, 1],\n",
              "        [0, 0, 1],\n",
              "        [1, 0, 0],\n",
              "        [1, 0, 0],\n",
              "        [0, 0, 1],\n",
              "        [0, 1, 0],\n",
              "        [1, 0, 0],\n",
              "        [0, 1, 0],\n",
              "        [1, 0, 0],\n",
              "        [0, 0, 1],\n",
              "        [0, 0, 1],\n",
              "        [0, 0, 1],\n",
              "        [0, 0, 1],\n",
              "        [1, 0, 0],\n",
              "        [0, 0, 1],\n",
              "        [0, 0, 1],\n",
              "        [0, 0, 1],\n",
              "        [0, 0, 1],\n",
              "        [0, 0, 1],\n",
              "        [1, 0, 0],\n",
              "        [1, 0, 0],\n",
              "        [1, 0, 0],\n",
              "        [1, 0, 0],\n",
              "        [1, 0, 0]]))"
            ]
          },
          "execution_count": 43,
          "metadata": {},
          "output_type": "execute_result"
        }
      ],
      "source": [
        "res = model.predict(player.reshape(1,28,10,3))\n",
        "res.argmax(axis=1), y_test"
      ]
    },
    {
      "cell_type": "code",
      "execution_count": 17,
      "metadata": {
        "id": "8m8DuOrFquB3"
      },
      "outputs": [
        {
          "name": "stdout",
          "output_type": "stream",
          "text": [
            "model saved!\n"
          ]
        }
      ],
      "source": [
        "model.save(\"spc1.h5\")\n",
        "print(\"model saved!\")"
      ]
    },
    {
      "cell_type": "code",
      "execution_count": 18,
      "metadata": {},
      "outputs": [
        {
          "data": {
            "image/png": "[encoded data removed]",
            "text/plain": [
              "<Figure size 432x288 with 1 Axes>"
            ]
          },
          "metadata": {
            "needs_background": "light"
          },
          "output_type": "display_data"
        },
        {
          "data": {
            "text/plain": [
              "<Figure size 432x288 with 0 Axes>"
            ]
          },
          "metadata": {},
          "output_type": "display_data"
        }
      ],
      "source": [
        "acc = history.history['accuracy']\n",
        "val_acc = history.history['val_accuracy']\n",
        "loss = history.history['loss']\n",
        "val_loss = history.history['val_loss']\n",
        "\n",
        "epochs = range(len(acc))\n",
        "\n",
        "plt.plot(epochs, acc, 'r', label='Training accuracy')\n",
        "plt.plot(epochs, val_acc, 'b', label='Validation accuracy')\n",
        "plt.title('Training and validation accuracy')\n",
        "plt.legend(loc=0)\n",
        "plt.figure()\n",
        "\n",
        "\n",
        "plt.show()"
      ]
    },
    {
      "cell_type": "code",
      "execution_count": 33,
      "metadata": {},
      "outputs": [],
      "source": [
        "l2 = np.load(\"labels2.npy\")"
      ]
    },
    {
      "cell_type": "code",
      "execution_count": 34,
      "metadata": {},
      "outputs": [],
      "source": [
        "x2 = []\n",
        "y2 = []"
      ]
    },
    {
      "cell_type": "code",
      "execution_count": 35,
      "metadata": {},
      "outputs": [],
      "source": [
        "for file_name, label in l2:\n",
        "  img = mpimg.imread(file_name)\n",
        "  img = img / 255.0\n",
        "  resized_image = cv2.resize(img, (10, 28))\n",
        "  x2.append(resized_image)\n",
        "  if label == \"Blue-Black Team\":\n",
        "    y2.append([1, 0, 0])\n",
        "  elif label == \"Referee\":\n",
        "    y2.append([0, 1, 0])\n",
        "  elif label == \"Red-White Team\":\n",
        "    y2.append([0, 0, 1])"
      ]
    },
    {
      "cell_type": "code",
      "execution_count": 36,
      "metadata": {},
      "outputs": [],
      "source": [
        "X2 = np.array(x2)\n",
        "y2 = np.array(y2)"
      ]
    },
    {
      "cell_type": "code",
      "execution_count": 37,
      "metadata": {},
      "outputs": [
        {
          "name": "stdout",
          "output_type": "stream",
          "text": [
            "10/10 [==============================] - 0s 4ms/step - loss: 0.1208 - accuracy: 0.9770\n"
          ]
        },
        {
          "data": {
            "text/plain": [
              "[0.12075255811214447, 0.9769737124443054]"
            ]
          },
          "execution_count": 37,
          "metadata": {},
          "output_type": "execute_result"
        }
      ],
      "source": [
        "model.evaluate(X2, y2)"
      ]
    },
    {
      "cell_type": "code",
      "execution_count": 31,
      "metadata": {},
      "outputs": [
        {
          "data": {
            "text/plain": [
              "array([0, 2, 2, 0, 0, 2, 0, 2, 0, 2, 0, 2, 0, 0, 2, 2, 0, 0, 0, 1, 2, 2,\n",
              "       0, 2, 0, 2, 0, 0, 0, 2, 0, 0, 0, 1, 2, 0, 2, 0, 2, 0, 2, 2, 0, 0,\n",
              "       0, 2, 0, 0, 0, 1, 0, 2, 2, 2, 0, 0, 2, 2, 1, 2, 2, 0, 0, 2, 0, 0,\n",
              "       0, 1, 0, 2, 0, 2, 0, 0, 0, 0, 0, 0, 0, 2, 2, 0, 0, 0, 1, 2, 2, 2,\n",
              "       2, 2, 0, 0, 0, 2, 0, 0, 2, 2, 0, 0, 0, 2, 1, 2, 2, 2, 2, 0, 0, 0,\n",
              "       2, 0, 2, 0, 0, 0, 2, 2, 0, 0, 0, 0, 2, 1, 2, 0, 2, 0, 0, 2, 0, 0,\n",
              "       0, 0, 0, 0, 0, 2, 2, 0, 0, 2, 0, 1, 2, 2, 0, 0, 0, 2, 2, 0, 2, 0,\n",
              "       0, 0, 0, 0, 2, 2, 2, 0, 2, 0, 1, 2, 2, 0, 0, 0, 0, 2, 0, 0, 0, 0,\n",
              "       2, 2, 2, 2, 0, 0, 1, 2, 2, 2, 0, 0, 2, 2, 0, 0, 0, 0, 2, 0, 2, 0,\n",
              "       2, 0, 0, 2, 2, 2, 0, 2, 0, 2, 0, 0, 0, 0, 2, 0, 2, 0, 2, 2, 2, 2,\n",
              "       0, 2, 0, 2, 0, 0, 0, 0, 2, 0, 2, 0, 2, 0, 2, 0, 1, 2, 2, 2, 0, 2,\n",
              "       0, 2, 0, 0, 0, 0, 0, 0, 0, 2, 2, 0, 2, 0, 2, 0, 1, 2, 2, 2, 0, 2,\n",
              "       0, 2, 2, 0, 0, 0, 0, 2, 0, 2, 0, 2, 0, 2, 1, 2, 2, 0, 2, 0, 2, 2,\n",
              "       0, 0, 2, 0, 0, 2, 0, 2, 0, 0, 2, 2, 1, 2, 2, 0, 2, 0, 2, 2, 0, 0,\n",
              "       0, 0, 0, 1, 0, 0, 0, 0, 0, 0, 0, 0, 2, 0, 2, 0, 2, 0, 2, 0, 2, 2,\n",
              "       0, 0, 0, 0, 0, 0, 0, 0, 2, 0, 0, 0, 2, 0, 0, 2, 0, 2, 0, 2, 0, 2,\n",
              "       2, 0, 0, 0, 0, 0, 0, 0, 2, 0, 0, 0, 2, 0, 0, 2, 1, 2, 2, 0, 0, 2,\n",
              "       2, 0, 0, 0, 0, 0, 0, 0, 2, 0, 2, 0, 2, 0, 2, 1, 2, 2, 0, 0, 2, 2,\n",
              "       0, 0, 0, 0, 0, 0, 0, 0, 0, 0, 0, 0, 2, 2, 2, 1, 0, 2, 2, 0, 2, 2,\n",
              "       0, 0, 0, 0, 0, 0, 0, 0, 0, 2, 0, 0, 2, 2, 0, 2, 1, 0, 2, 2, 0, 2,\n",
              "       2, 0, 0, 0, 0, 0, 0, 0, 2, 0, 0, 0, 2, 0, 0, 2, 1, 0, 2, 2, 0, 2,\n",
              "       2, 0, 0, 0, 0, 2, 0, 0, 2, 0, 0, 2, 0, 1, 2, 2, 0, 2, 2, 0, 0, 0,\n",
              "       0, 2, 0, 0, 2, 0, 0, 2, 1, 2, 0, 2, 2, 2, 0, 0])"
            ]
          },
          "execution_count": 31,
          "metadata": {},
          "output_type": "execute_result"
        }
      ],
      "source": [
        "ans.argmax(axis=1)"
      ]
    },
    {
      "cell_type": "code",
      "execution_count": null,
      "metadata": {},
      "outputs": [],
      "source": []
    }
  ],
  "metadata": {
    "accelerator": "GPU",
    "colab": {
      "collapsed_sections": [],
      "name": "soccer_players_classification.ipynb",
      "provenance": []
    },
    "interpreter": {
      "hash": "affa5148b6bb3a62bce48f2221b958eccd9fcb25cf73fdae5df158eb338960c3"
    },
    "kernelspec": {
      "display_name": "Python 3.7.10 64-bit ('CV': conda)",
      "name": "python3"
    },
    "language_info": {
      "codemirror_mode": {
        "name": "ipython",
        "version": 3
      },
      "file_extension": ".py",
      "mimetype": "text/x-python",
      "name": "python",
      "nbconvert_exporter": "python",
      "pygments_lexer": "ipython3",
      "version": "3.7.10"
    }
  },
  "nbformat": 4,
  "nbformat_minor": 5
}