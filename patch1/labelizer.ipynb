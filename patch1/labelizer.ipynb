{
 "cells": [
  {
   "cell_type": "code",
   "execution_count": null,
   "metadata": {},
   "outputs": [],
   "source": [
    "!pip install pigeon-jupyter "
   ]
  },
  {
   "cell_type": "code",
   "execution_count": 1,
   "metadata": {},
   "outputs": [],
   "source": [
    "import numpy as np\n",
    "from pigeon import annotate\n",
    "\n",
    "from IPython.display import display, Image"
   ]
  },
  {
   "cell_type": "code",
   "execution_count": 2,
   "metadata": {},
   "outputs": [],
   "source": [
    "img_names = np.load('names2.npy')\n",
    "prev_anot = []"
   ]
  },
  {
   "cell_type": "code",
   "execution_count": 3,
   "metadata": {},
   "outputs": [
    {
     "data": {
      "application/vnd.jupyter.widget-view+json": {
       "model_id": "c7a62d7a743947c8a274187ed51fa4af",
       "version_major": 2,
       "version_minor": 0
      },
      "text/plain": [
       "HTML(value='0 examples annotated, 501 examples left')"
      ]
     },
     "metadata": {},
     "output_type": "display_data"
    },
    {
     "data": {
      "application/vnd.jupyter.widget-view+json": {
       "model_id": "74fbf5b4f4344847bb01e01d732ba61e",
       "version_major": 2,
       "version_minor": 0
      },
      "text/plain": [
       "HBox(children=(Button(description='Red-White Team', style=ButtonStyle()), Button(description='Blue-Black Team'…"
      ]
     },
     "metadata": {},
     "output_type": "display_data"
    },
    {
     "data": {
      "application/vnd.jupyter.widget-view+json": {
       "model_id": "86d0562a4fda459395d93cd2634e8fc2",
       "version_major": 2,
       "version_minor": 0
      },
      "text/plain": [
       "Output()"
      ]
     },
     "metadata": {},
     "output_type": "display_data"
    }
   ],
   "source": [
    "annotations = annotate(\n",
    "  img_names,\n",
    "  options=['Red-White Team', 'Blue-Black Team', 'Referee'],\n",
    "  display_fn=lambda filename: display(Image(filename))\n",
    ")"
   ]
  },
  {
   "cell_type": "code",
   "execution_count": 5,
   "metadata": {},
   "outputs": [
    {
     "data": {
      "text/plain": [
       "[('img/0_1_mini-15-0.jpg', 'Blue-Black Team'),\n",
       " ('img/0_1_mini-15-1.jpg', 'Red-White Team'),\n",
       " ('img/0_1_mini-15-2.jpg', 'Red-White Team'),\n",
       " ('img/0_1_mini-15-3.jpg', 'Blue-Black Team'),\n",
       " ('img/0_1_mini-15-4.jpg', 'Blue-Black Team'),\n",
       " ('img/0_1_mini-15-5.jpg', 'Red-White Team'),\n",
       " ('img/0_1_mini-15-6.jpg', 'Blue-Black Team'),\n",
       " ('img/0_1_mini-15-7.jpg', 'Red-White Team'),\n",
       " ('img/0_1_mini-15-8.jpg', 'Blue-Black Team'),\n",
       " ('img/0_1_mini-15-10.jpg', 'Red-White Team'),\n",
       " ('img/0_1_mini-15-11.jpg', 'Red-White Team'),\n",
       " ('img/0_1_mini-30-12.jpg', 'Blue-Black Team'),\n",
       " ('img/0_1_mini-30-13.jpg', 'Blue-Black Team'),\n",
       " ('img/0_1_mini-30-14.jpg', 'Red-White Team'),\n",
       " ('img/0_1_mini-30-15.jpg', 'Red-White Team'),\n",
       " ('img/0_1_mini-30-16.jpg', 'Blue-Black Team'),\n",
       " ('img/0_1_mini-30-17.jpg', 'Blue-Black Team'),\n",
       " ('img/0_1_mini-30-18.jpg', 'Blue-Black Team'),\n",
       " ('img/0_1_mini-30-19.jpg', 'Referee'),\n",
       " ('img/0_1_mini-30-20.jpg', 'Red-White Team'),\n",
       " ('img/0_1_mini-30-21.jpg', 'Red-White Team'),\n",
       " ('img/0_1_mini-30-22.jpg', 'Blue-Black Team'),\n",
       " ('img/0_1_mini-30-24.jpg', 'Blue-Black Team'),\n",
       " ('img/0_1_mini-30-25.jpg', 'Red-White Team'),\n",
       " ('img/0_1_mini-45-27.jpg', 'Blue-Black Team'),\n",
       " ('img/0_1_mini-45-29.jpg', 'Red-White Team'),\n",
       " ('img/0_1_mini-45-30.jpg', 'Blue-Black Team'),\n",
       " ('img/0_1_mini-45-31.jpg', 'Blue-Black Team'),\n",
       " ('img/0_1_mini-45-32.jpg', 'Blue-Black Team'),\n",
       " ('img/0_1_mini-45-33.jpg', 'Referee'),\n",
       " ('img/0_1_mini-45-34.jpg', 'Red-White Team'),\n",
       " ('img/0_1_mini-45-36.jpg', 'Red-White Team'),\n",
       " ('img/0_1_mini-45-37.jpg', 'Blue-Black Team'),\n",
       " ('img/0_1_mini-45-38.jpg', 'Red-White Team'),\n",
       " ('img/0_1_mini-45-39.jpg', 'Blue-Black Team'),\n",
       " ('img/0_1_mini-45-41.jpg', 'Red-White Team'),\n",
       " ('img/0_1_mini-60-43.jpg', 'Blue-Black Team'),\n",
       " ('img/0_1_mini-60-45.jpg', 'Red-White Team'),\n",
       " ('img/0_1_mini-60-46.jpg', 'Blue-Black Team'),\n",
       " ('img/0_1_mini-60-47.jpg', 'Blue-Black Team'),\n",
       " ('img/0_1_mini-60-48.jpg', 'Blue-Black Team'),\n",
       " ('img/0_1_mini-60-49.jpg', 'Referee'),\n",
       " ('img/0_1_mini-60-50.jpg', 'Red-White Team'),\n",
       " ('img/0_1_mini-60-51.jpg', 'Red-White Team'),\n",
       " ('img/0_1_mini-60-52.jpg', 'Red-White Team'),\n",
       " ('img/0_1_mini-60-53.jpg', 'Red-White Team'),\n",
       " ('img/0_1_mini-60-54.jpg', 'Blue-Black Team'),\n",
       " ('img/0_1_mini-60-55.jpg', 'Blue-Black Team'),\n",
       " ('img/0_1_mini-60-57.jpg', 'Red-White Team'),\n",
       " ('img/0_1_mini-60-58.jpg', 'Referee'),\n",
       " ('img/0_1_mini-75-61.jpg', 'Blue-Black Team'),\n",
       " ('img/0_1_mini-75-62.jpg', 'Blue-Black Team'),\n",
       " ('img/0_1_mini-75-63.jpg', 'Red-White Team'),\n",
       " ('img/0_1_mini-75-64.jpg', 'Blue-Black Team'),\n",
       " ('img/0_1_mini-75-66.jpg', 'Blue-Black Team'),\n",
       " ('img/0_1_mini-75-67.jpg', 'Referee'),\n",
       " ('img/0_1_mini-75-68.jpg', 'Red-White Team'),\n",
       " ('img/0_1_mini-75-69.jpg', 'Red-White Team'),\n",
       " ('img/0_1_mini-75-70.jpg', 'Blue-Black Team'),\n",
       " ('img/0_1_mini-75-71.jpg', 'Red-White Team'),\n",
       " ('img/0_1_mini-75-72.jpg', 'Blue-Black Team'),\n",
       " ('img/0_1_mini-75-75.jpg', 'Blue-Black Team'),\n",
       " ('img/0_1_mini-90-77.jpg', 'Blue-Black Team'),\n",
       " ('img/0_1_mini-90-78.jpg', 'Blue-Black Team'),\n",
       " ('img/0_1_mini-90-79.jpg', 'Red-White Team'),\n",
       " ('img/0_1_mini-90-81.jpg', 'Blue-Black Team'),\n",
       " ('img/0_1_mini-90-83.jpg', 'Blue-Black Team'),\n",
       " ('img/0_1_mini-90-84.jpg', 'Referee'),\n",
       " ('img/0_1_mini-90-85.jpg', 'Red-White Team'),\n",
       " ('img/0_1_mini-90-86.jpg', 'Red-White Team'),\n",
       " ('img/0_1_mini-90-87.jpg', 'Red-White Team'),\n",
       " ('img/0_1_mini-90-88.jpg', 'Red-White Team'),\n",
       " ('img/0_1_mini-90-89.jpg', 'Red-White Team'),\n",
       " ('img/0_1_mini-90-90.jpg', 'Blue-Black Team'),\n",
       " ('img/0_1_mini-90-91.jpg', 'Blue-Black Team'),\n",
       " ('img/0_1_mini-90-92.jpg', 'Blue-Black Team'),\n",
       " ('img/0_1_mini-90-93.jpg', 'Red-White Team'),\n",
       " ('img/0_1_mini-105-94.jpg', 'Blue-Black Team'),\n",
       " ('img/0_1_mini-105-95.jpg', 'Blue-Black Team'),\n",
       " ('img/0_1_mini-105-96.jpg', 'Red-White Team'),\n",
       " ('img/0_1_mini-105-97.jpg', 'Red-White Team'),\n",
       " ('img/0_1_mini-105-98.jpg', 'Blue-Black Team'),\n",
       " ('img/0_1_mini-105-99.jpg', 'Blue-Black Team'),\n",
       " ('img/0_1_mini-105-100.jpg', 'Blue-Black Team'),\n",
       " ('img/0_1_mini-105-101.jpg', 'Red-White Team'),\n",
       " ('img/0_1_mini-105-102.jpg', 'Referee'),\n",
       " ('img/0_1_mini-105-103.jpg', 'Red-White Team'),\n",
       " ('img/0_1_mini-105-104.jpg', 'Red-White Team'),\n",
       " ('img/0_1_mini-105-105.jpg', 'Red-White Team'),\n",
       " ('img/0_1_mini-105-106.jpg', 'Red-White Team'),\n",
       " ('img/0_1_mini-105-107.jpg', 'Blue-Black Team'),\n",
       " ('img/0_1_mini-105-108.jpg', 'Blue-Black Team'),\n",
       " ('img/0_1_mini-105-110.jpg', 'Red-White Team'),\n",
       " ('img/0_1_mini-120-114.jpg', 'Blue-Black Team'),\n",
       " ('img/0_1_mini-120-115.jpg', 'Blue-Black Team'),\n",
       " ('img/0_1_mini-120-116.jpg', 'Red-White Team'),\n",
       " ('img/0_1_mini-120-117.jpg', 'Red-White Team'),\n",
       " ('img/0_1_mini-120-119.jpg', 'Blue-Black Team'),\n",
       " ('img/0_1_mini-120-120.jpg', 'Blue-Black Team'),\n",
       " ('img/0_1_mini-120-121.jpg', 'Blue-Black Team'),\n",
       " ('img/0_1_mini-120-122.jpg', 'Red-White Team'),\n",
       " ('img/0_1_mini-120-123.jpg', 'Referee'),\n",
       " ('img/0_1_mini-120-124.jpg', 'Red-White Team'),\n",
       " ('img/0_1_mini-120-125.jpg', 'Red-White Team'),\n",
       " ('img/0_1_mini-120-126.jpg', 'Red-White Team'),\n",
       " ('img/0_1_mini-120-127.jpg', 'Blue-Black Team'),\n",
       " ('img/0_1_mini-120-129.jpg', 'Red-White Team'),\n",
       " ('img/0_1_mini-120-130.jpg', 'Blue-Black Team'),\n",
       " ('img/0_1_mini-135-135.jpg', 'Blue-Black Team'),\n",
       " ('img/0_1_mini-135-136.jpg', 'Blue-Black Team'),\n",
       " ('img/0_1_mini-135-137.jpg', 'Red-White Team'),\n",
       " ('img/0_1_mini-135-138.jpg', 'Red-White Team'),\n",
       " ('img/0_1_mini-135-139.jpg', 'Blue-Black Team'),\n",
       " ('img/0_1_mini-135-140.jpg', 'Blue-Black Team'),\n",
       " ('img/0_1_mini-135-141.jpg', 'Red-White Team'),\n",
       " ('img/0_1_mini-135-142.jpg', 'Blue-Black Team'),\n",
       " ('img/0_1_mini-135-143.jpg', 'Referee'),\n",
       " ('img/0_1_mini-135-144.jpg', 'Red-White Team'),\n",
       " ('img/0_1_mini-135-145.jpg', 'Red-White Team'),\n",
       " ('img/0_1_mini-135-146.jpg', 'Red-White Team'),\n",
       " ('img/0_1_mini-135-147.jpg', 'Blue-Black Team'),\n",
       " ('img/0_1_mini-135-148.jpg', 'Blue-Black Team'),\n",
       " ('img/0_1_mini-135-149.jpg', 'Red-White Team'),\n",
       " ('img/0_1_mini-135-150.jpg', 'Red-White Team'),\n",
       " ('img/0_1_mini-135-151.jpg', 'Blue-Black Team'),\n",
       " ('img/0_1_mini-150-156.jpg', 'Blue-Black Team'),\n",
       " ('img/0_1_mini-150-157.jpg', 'Blue-Black Team'),\n",
       " ('img/0_1_mini-150-158.jpg', 'Red-White Team'),\n",
       " ('img/0_1_mini-150-160.jpg', 'Red-White Team'),\n",
       " ('img/0_1_mini-150-161.jpg', 'Blue-Black Team'),\n",
       " ('img/0_1_mini-150-162.jpg', 'Red-White Team'),\n",
       " ('img/0_1_mini-150-163.jpg', 'Blue-Black Team'),\n",
       " ('img/0_1_mini-150-164.jpg', 'Referee'),\n",
       " ('img/0_1_mini-150-165.jpg', 'Red-White Team'),\n",
       " ('img/0_1_mini-150-166.jpg', 'Red-White Team'),\n",
       " ('img/0_1_mini-150-168.jpg', 'Blue-Black Team'),\n",
       " ('img/0_1_mini-150-170.jpg', 'Blue-Black Team'),\n",
       " ('img/0_1_mini-165-175.jpg', 'Blue-Black Team'),\n",
       " ('img/0_1_mini-165-177.jpg', 'Red-White Team'),\n",
       " ('img/0_1_mini-165-178.jpg', 'Red-White Team'),\n",
       " ('img/0_1_mini-165-179.jpg', 'Red-White Team'),\n",
       " ('img/0_1_mini-165-180.jpg', 'Blue-Black Team'),\n",
       " ('img/0_1_mini-165-181.jpg', 'Blue-Black Team'),\n",
       " ('img/0_1_mini-165-182.jpg', 'Referee'),\n",
       " ('img/0_1_mini-165-183.jpg', 'Red-White Team'),\n",
       " ('img/0_1_mini-165-184.jpg', 'Red-White Team'),\n",
       " ('img/0_1_mini-165-186.jpg', 'Blue-Black Team'),\n",
       " ('img/0_1_mini-165-187.jpg', 'Blue-Black Team'),\n",
       " ('img/0_1_mini-165-188.jpg', 'Red-White Team'),\n",
       " ('img/0_1_mini-165-189.jpg', 'Red-White Team'),\n",
       " ('img/0_1_mini-165-191.jpg', 'Blue-Black Team'),\n",
       " ('img/0_1_mini-165-192.jpg', 'Blue-Black Team'),\n",
       " ('img/0_1_mini-180-195.jpg', 'Red-White Team'),\n",
       " ('img/0_1_mini-180-196.jpg', 'Red-White Team'),\n",
       " ('img/0_1_mini-180-197.jpg', 'Blue-Black Team'),\n",
       " ('img/0_1_mini-180-198.jpg', 'Red-White Team'),\n",
       " ('img/0_1_mini-180-199.jpg', 'Blue-Black Team'),\n",
       " ('img/0_1_mini-180-201.jpg', 'Red-White Team'),\n",
       " ('img/0_1_mini-180-202.jpg', 'Red-White Team'),\n",
       " ('img/0_1_mini-180-203.jpg', 'Red-White Team'),\n",
       " ('img/0_1_mini-180-204.jpg', 'Blue-Black Team'),\n",
       " ('img/0_1_mini-180-205.jpg', 'Red-White Team'),\n",
       " ('img/0_1_mini-180-206.jpg', 'Blue-Black Team'),\n",
       " ('img/0_1_mini-180-207.jpg', 'Red-White Team'),\n",
       " ('img/0_1_mini-180-210.jpg', 'Blue-Black Team'),\n",
       " ('img/0_1_mini-195-212.jpg', 'Red-White Team'),\n",
       " ('img/0_1_mini-195-213.jpg', 'Blue-Black Team'),\n",
       " ('img/0_1_mini-195-214.jpg', 'Red-White Team'),\n",
       " ('img/0_1_mini-195-215.jpg', 'Blue-Black Team'),\n",
       " ('img/0_1_mini-195-217.jpg', 'Red-White Team'),\n",
       " ('img/0_1_mini-195-218.jpg', 'Red-White Team'),\n",
       " ('img/0_1_mini-195-219.jpg', 'Red-White Team'),\n",
       " ('img/0_1_mini-195-220.jpg', 'Blue-Black Team'),\n",
       " ('img/0_1_mini-195-221.jpg', 'Red-White Team'),\n",
       " ('img/0_1_mini-195-222.jpg', 'Blue-Black Team'),\n",
       " ('img/0_1_mini-195-223.jpg', 'Red-White Team'),\n",
       " ('img/0_1_mini-195-226.jpg', 'Blue-Black Team'),\n",
       " ('img/0_1_mini-210-230.jpg', 'Red-White Team'),\n",
       " ('img/0_1_mini-210-231.jpg', 'Blue-Black Team'),\n",
       " ('img/0_1_mini-210-232.jpg', 'Red-White Team'),\n",
       " ('img/0_1_mini-210-233.jpg', 'Blue-Black Team'),\n",
       " ('img/0_1_mini-210-234.jpg', 'Red-White Team'),\n",
       " ('img/0_1_mini-210-235.jpg', 'Blue-Black Team'),\n",
       " ('img/0_1_mini-210-236.jpg', 'Referee'),\n",
       " ('img/0_1_mini-210-237.jpg', 'Red-White Team'),\n",
       " ('img/0_1_mini-210-238.jpg', 'Red-White Team'),\n",
       " ('img/0_1_mini-210-239.jpg', 'Red-White Team'),\n",
       " ('img/0_1_mini-210-240.jpg', 'Blue-Black Team'),\n",
       " ('img/0_1_mini-210-241.jpg', 'Red-White Team'),\n",
       " ('img/0_1_mini-210-242.jpg', 'Blue-Black Team'),\n",
       " ('img/0_1_mini-210-243.jpg', 'Red-White Team'),\n",
       " ('img/0_1_mini-225-248.jpg', 'Blue-Black Team'),\n",
       " ('img/0_1_mini-225-251.jpg', 'Red-White Team'),\n",
       " ('img/0_1_mini-225-253.jpg', 'Blue-Black Team'),\n",
       " ('img/0_1_mini-225-254.jpg', 'Red-White Team'),\n",
       " ('img/0_1_mini-225-255.jpg', 'Blue-Black Team'),\n",
       " ('img/0_1_mini-225-256.jpg', 'Red-White Team'),\n",
       " ('img/0_1_mini-225-257.jpg', 'Blue-Black Team'),\n",
       " ('img/0_1_mini-225-258.jpg', 'Referee'),\n",
       " ('img/0_1_mini-225-259.jpg', 'Red-White Team'),\n",
       " ('img/0_1_mini-225-260.jpg', 'Blue-Black Team'),\n",
       " ('img/0_1_mini-225-261.jpg', 'Red-White Team'),\n",
       " ('img/0_1_mini-225-262.jpg', 'Blue-Black Team'),\n",
       " ('img/0_1_mini-225-263.jpg', 'Red-White Team'),\n",
       " ('img/0_1_mini-225-264.jpg', 'Blue-Black Team'),\n",
       " ('img/0_1_mini-225-265.jpg', 'Red-White Team'),\n",
       " ('img/0_1_mini-225-266.jpg', 'Red-White Team'),\n",
       " ('img/0_1_mini-225-267.jpg', 'Blue-Black Team'),\n",
       " ('img/0_1_mini-225-268.jpg', 'Blue-Black Team'),\n",
       " ('img/0_1_mini-240-270.jpg', 'Blue-Black Team'),\n",
       " ('img/0_1_mini-240-271.jpg', 'Red-White Team'),\n",
       " ('img/0_1_mini-240-272.jpg', 'Blue-Black Team'),\n",
       " ('img/0_1_mini-240-273.jpg', 'Red-White Team'),\n",
       " ('img/0_1_mini-240-274.jpg', 'Blue-Black Team'),\n",
       " ('img/0_1_mini-240-275.jpg', 'Red-White Team'),\n",
       " ('img/0_1_mini-240-276.jpg', 'Blue-Black Team'),\n",
       " ('img/0_1_mini-240-277.jpg', 'Red-White Team'),\n",
       " ('img/0_1_mini-240-278.jpg', 'Referee'),\n",
       " ('img/0_1_mini-240-279.jpg', 'Red-White Team'),\n",
       " ('img/0_1_mini-240-280.jpg', 'Red-White Team'),\n",
       " ('img/0_1_mini-240-281.jpg', 'Blue-Black Team'),\n",
       " ('img/0_1_mini-240-282.jpg', 'Red-White Team'),\n",
       " ('img/0_1_mini-240-283.jpg', 'Blue-Black Team'),\n",
       " ('img/0_1_mini-240-284.jpg', 'Red-White Team'),\n",
       " ('img/0_1_mini-240-286.jpg', 'Blue-Black Team')]"
      ]
     },
     "execution_count": 5,
     "metadata": {},
     "output_type": "execute_result"
    }
   ],
   "source": [
    "annotations"
   ]
  },
  {
   "cell_type": "code",
   "execution_count": 6,
   "metadata": {},
   "outputs": [
    {
     "data": {
      "text/plain": [
       "('img/0_1_mini-300-356.jpg', 'Blue-Black Team')"
      ]
     },
     "execution_count": 6,
     "metadata": {},
     "output_type": "execute_result"
    }
   ],
   "source": [
    "annotations.pop() # baraye delete kardan\n",
    "# hamishe ejra nashavad\n",
    "#ino yadet bashe hamishe ejra nakoni faghat bara pak kardane!"
   ]
  },
  {
   "cell_type": "code",
   "execution_count": 9,
   "metadata": {},
   "outputs": [],
   "source": [
    "np.save(\"labels2.npy\", annotations)"
   ]
  },
  {
   "cell_type": "code",
   "execution_count": null,
   "metadata": {},
   "outputs": [],
   "source": []
  }
 ],
 "metadata": {
  "interpreter": {
   "hash": "affa5148b6bb3a62bce48f2221b958eccd9fcb25cf73fdae5df158eb338960c3"
  },
  "kernelspec": {
   "display_name": "Python 3.7.10 64-bit ('CV': conda)",
   "name": "python3"
  },
  "language_info": {
   "codemirror_mode": {
    "name": "ipython",
    "version": 3
   },
   "file_extension": ".py",
   "mimetype": "text/x-python",
   "name": "python",
   "nbconvert_exporter": "python",
   "pygments_lexer": "ipython3",
   "version": "3.7.10"
  }
 },
 "nbformat": 4,
 "nbformat_minor": 5
}